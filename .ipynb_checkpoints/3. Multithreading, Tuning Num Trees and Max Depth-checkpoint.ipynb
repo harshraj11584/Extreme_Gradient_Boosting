{
 "cells": [
  {
   "cell_type": "markdown",
   "metadata": {},
   "source": [
    "Using Multithreading with the xgboost API"
   ]
  },
  {
   "cell_type": "code",
   "execution_count": 33,
   "metadata": {},
   "outputs": [],
   "source": [
    "import numpy as np\n",
    "import xgboost as xgb\n",
    "import pandas as pd\n",
    "import sklearn\n",
    "import time\n",
    "import matplotlib.pyplot as plt\n",
    "from sklearn.metrics import accuracy_score"
   ]
  },
  {
   "cell_type": "code",
   "execution_count": 20,
   "metadata": {},
   "outputs": [
    {
     "name": "stdout",
     "output_type": "stream",
     "text": [
      "(61878, 95)\n",
      "(61878, 94) (61878,)\n",
      "object\n",
      "int64\n"
     ]
    }
   ],
   "source": [
    "data = pd.read_csv('datasets/otto-data.csv')\n",
    "print(data.shape)\n",
    "X,Y = data.iloc[:,:-1], data.iloc[:,-1]\n",
    "print(X.shape, Y.shape)\n",
    "#print(Y)\n",
    "print(Y.dtype)\n",
    "Y = sklearn.preprocessing.LabelEncoder().fit_transform(Y)\n",
    "print(Y.dtype)import numpy as np\n",
    "import xgboost as xgb\n",
    "import pandas as pd\n",
    "import sklearn\n",
    "import time\n",
    "import matplotlib.pyplot as plt\n",
    "from sklearn.metrics import accuracy_score"
   ]
  },
  {
   "cell_type": "code",
   "execution_count": 21,
   "metadata": {},
   "outputs": [],
   "source": [
    "X_train, X_test, y_train, y_test = sklearn.model_selection.train_test_split(X, Y, test_size=0.33, random_state=42)"
   ]
  },
  {
   "cell_type": "code",
   "execution_count": 23,
   "metadata": {},
   "outputs": [
    {
     "name": "stdout",
     "output_type": "stream",
     "text": [
      "Accuracy: 99.99%\n",
      "1 62.76583242416382\n",
      "Accuracy: 99.99%\n",
      "2 31.432397842407227\n",
      "Accuracy: 99.99%\n",
      "3 29.612934827804565\n",
      "Accuracy: 99.99%\n",
      "4 29.23178791999817\n"
     ]
    },
    {
     "data": {
      "image/png": "[encoded data removed]",
      "text/plain": [
       "<Figure size 432x288 with 1 Axes>"
      ]
     },
     "metadata": {
      "needs_background": "light"
     },
     "output_type": "display_data"
    }
   ],
   "source": [
    "results = []\n",
    "num_threads = [1, 2, 3, 4]\n",
    "for n in num_threads:\n",
    "    start = time.time()\n",
    "    model = xgb.XGBClassifier(nthread=n)\n",
    "    model.fit(X_train, y_train)\n",
    "    elapsed = time.time() - start\n",
    "    y_pred = model.predict(X_test)\n",
    "    predictions = [round(value) for value in y_pred]\n",
    "    accuracy = accuracy_score(y_test, predictions)\n",
    "    print(\"Accuracy: %.2f%%\" % (accuracy * 100.0))\n",
    "\n",
    "    print(n, elapsed)\n",
    "    results.append(elapsed)\n",
    "# plot results\n",
    "plt.plot(num_threads, results)\n",
    "plt.ylabel('Time (seconds)')\n",
    "plt.xlabel('Number of Threads')\n",
    "plt.show()"
   ]
  },
  {
   "cell_type": "markdown",
   "metadata": {},
   "source": [
    "Tuning Num Trees and Max Depth"
   ]
  },
  {
   "cell_type": "code",
   "execution_count": 24,
   "metadata": {},
   "outputs": [],
   "source": [
    "import numpy as np\n",
    "import xgboost as xgb\n",
    "import pandas as pd\n",
    "import sklearn\n",
    "import time\n",
    "import matplotlib.pyplot as plt\n",
    "from sklearn.metrics import accuracy_score\n",
    "from sklearn.model_selection import GridSearchCV\n",
    "from sklearn.model_selection import StratifiedKFold"
   ]
  },
  {
   "cell_type": "code",
   "execution_count": 25,
   "metadata": {},
   "outputs": [
    {
     "name": "stdout",
     "output_type": "stream",
     "text": [
      "(61878, 95)\n",
      "(61878, 94) (61878,)\n",
      "object\n",
      "int64\n"
     ]
    }
   ],
   "source": [
    "data = pd.read_csv('datasets/otto-data.csv')\n",
    "print(data.shape)\n",
    "X,Y = data.iloc[:,:-1], data.iloc[:,-1]\n",
    "print(X.shape, Y.shape)\n",
    "#print(Y)\n",
    "print(Y.dtype)\n",
    "Y = sklearn.preprocessing.LabelEncoder().fit_transform(Y)\n",
    "print(Y.dtype)\n",
    "X_train, X_test, y_train, y_test = sklearn.model_selection.train_test_split(X, Y, test_size=0.33, random_state=42)"
   ]
  },
  {
   "cell_type": "code",
   "execution_count": 31,
   "metadata": {},
   "outputs": [
    {
     "name": "stdout",
     "output_type": "stream",
     "text": [
      "Fitting 10 folds for each of 20 candidates, totalling 200 fits\n"
     ]
    },
    {
     "name": "stderr",
     "output_type": "stream",
     "text": [
      "[Parallel(n_jobs=3)]: Using backend LokyBackend with 3 concurrent workers.\n",
      "[Parallel(n_jobs=3)]: Done  44 tasks      | elapsed: 10.6min\n",
      "/home/harsh/.local/lib/python3.7/site-packages/sklearn/externals/joblib/externals/loky/process_executor.py:706: UserWarning: A worker stopped while some jobs were given to the executor. This can be caused by a too short worker timeout or by a memory leak.\n",
      "  \"timeout or by a memory leak.\", UserWarning\n",
      "[Parallel(n_jobs=3)]: Done 194 tasks      | elapsed: 90.4min\n",
      "[Parallel(n_jobs=3)]: Done 200 out of 200 | elapsed: 95.5min finished\n"
     ]
    }
   ],
   "source": [
    "#Will use Grid Search to Tune Hyperparameters\n",
    "model = xgb.XGBClassifier()\n",
    "n_estimators = [20, 50, 150, 250]\n",
    "max_depth = [1,3,5,10,15]\n",
    "\n",
    "param_grid = dict(max_depth=max_depth, n_estimators = n_estimators)\n",
    "kfold = StratifiedKFold(n_splits=10,shuffle=True,random_state=42)\n",
    "grid_search = GridSearchCV(model, param_grid, scoring=\"neg_log_loss\", n_jobs=3, cv=kfold, verbose=1)\n",
    "grid_result = grid_search.fit(X_train, y_train)"
   ]
  },
  {
   "cell_type": "code",
   "execution_count": 35,
   "metadata": {},
   "outputs": [
    {
     "name": "stdout",
     "output_type": "stream",
     "text": [
      "Printing Log Loss\n",
      "Best: -0.000716 using {'max_depth': 5, 'n_estimators': 250}\n",
      "-0.596846 (0.001574) with: {'max_depth': 1, 'n_estimators': 20}\n",
      "-0.169333 (0.001324) with: {'max_depth': 1, 'n_estimators': 50}\n",
      "-0.004817 (0.000947) with: {'max_depth': 1, 'n_estimators': 150}\n",
      "-0.001021 (0.001347) with: {'max_depth': 1, 'n_estimators': 250}\n",
      "-0.199528 (0.001156) with: {'max_depth': 3, 'n_estimators': 20}\n",
      "-0.010779 (0.000822) with: {'max_depth': 3, 'n_estimators': 50}\n",
      "-0.000749 (0.001184) with: {'max_depth': 3, 'n_estimators': 150}\n",
      "-0.000744 (0.001180) with: {'max_depth': 3, 'n_estimators': 250}\n",
      "-0.194785 (0.000792) with: {'max_depth': 5, 'n_estimators': 20}\n",
      "-0.010110 (0.000751) with: {'max_depth': 5, 'n_estimators': 50}\n",
      "-0.000720 (0.001121) with: {'max_depth': 5, 'n_estimators': 150}\n",
      "-0.000716 (0.001118) with: {'max_depth': 5, 'n_estimators': 250}\n",
      "-0.193820 (0.000676) with: {'max_depth': 10, 'n_estimators': 20}\n",
      "-0.010139 (0.000743) with: {'max_depth': 10, 'n_estimators': 50}\n",
      "-0.000741 (0.001115) with: {'max_depth': 10, 'n_estimators': 150}\n",
      "-0.000737 (0.001111) with: {'max_depth': 10, 'n_estimators': 250}\n",
      "-0.193820 (0.000676) with: {'max_depth': 15, 'n_estimators': 20}\n",
      "-0.010139 (0.000743) with: {'max_depth': 15, 'n_estimators': 50}\n",
      "-0.000741 (0.001115) with: {'max_depth': 15, 'n_estimators': 150}\n",
      "-0.000737 (0.001111) with: {'max_depth': 15, 'n_estimators': 250}\n"
     ]
    },
    {
     "data": {
      "image/png": "[encoded data removed]",
      "text/plain": [
       "<Figure size 432x288 with 1 Axes>"
      ]
     },
     "metadata": {
      "needs_background": "light"
     },
     "output_type": "display_data"
    }
   ],
   "source": [
    "# summarize results\n",
    "print(\"Printing Log Loss\")\n",
    "print(\"Best: %f using %s\" % (grid_result.best_score_, grid_result.best_params_))\n",
    "means = grid_result.cv_results_['mean_test_score']\n",
    "stds = grid_result.cv_results_['std_test_score']\n",
    "params = grid_result.cv_results_['params']\n",
    "for mean, stdev, param in zip(means, stds, params):\n",
    "\tprint(\"%f (%f) with: %r\" % (mean, stdev, param))\n",
    "# plot results\n",
    "scores = np.array(means).reshape(len(max_depth), len(n_estimators))\n",
    "for i, value in enumerate(max_depth):\n",
    "    plt.plot(n_estimators, scores[i], label='depth: ' + str(value))\n",
    "plt.legend()\n",
    "plt.xlabel('n_estimators')\n",
    "plt.ylabel('Log Loss')\n",
    "plt.show()"
   ]
  },
  {
   "cell_type": "code",
   "execution_count": null,
   "metadata": {},
   "outputs": [],
   "source": []
  }
 ],
 "metadata": {
  "kernelspec": {
   "display_name": "Python 3",
   "language": "python",
   "name": "python3"
  },
  "language_info": {
   "codemirror_mode": {
    "name": "ipython",
    "version": 3
   },
   "file_extension": ".py",
   "mimetype": "text/x-python",
   "name": "python",
   "nbconvert_exporter": "python",
   "pygments_lexer": "ipython3",
   "version": "3.7.1"
  }
 },
 "nbformat": 4,
 "nbformat_minor": 2
}
